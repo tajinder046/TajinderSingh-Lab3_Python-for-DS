{
 "cells": [
  {
   "cell_type": "markdown",
   "id": "fcbd582c",
   "metadata": {
    "id": "fcbd582c"
   },
   "source": [
    "## Learning Outcomes\n",
    "- Exploratory data analysis & preparing the data for model building. \n",
    "- Machine Learning - Supervised Learning Classification\n",
    "  - Logistic Regression\n",
    "  - Naive bayes Classifier\n",
    "  - KNN Classifier\n",
    "  - Decision Tree Classifier\n",
    "  - Random Forest Classifier\n",
    "  - Ensemble methods\n",
    "- Training and making predictions using different classification models.\n",
    "- Model evaluation"
   ]
  },
  {
   "cell_type": "markdown",
   "id": "f2e961f9",
   "metadata": {
    "id": "f2e961f9"
   },
   "source": [
    "## Objective: \n",
    "- The Classification goal is to predict “heart disease” in a person with regards to different factors given. \n",
    "\n",
    "## Context:\n",
    "- Heart disease is one of the leading causes of death for people of most races in the US. At least 1 of 3 key risk factors for heart disease: high blood pressure, high cholesterol, and smoking. \n",
    "- Detecting and preventing the factors that have the greatest impact on heart disease is very important in healthcare. Machine learning methods may detect \"patterns\" from the data and can predict whether a patient is suffering from any heart disease or not..\n",
    "\n",
    "## Dataset Information\n",
    "\n",
    "#### Source: https://www.kaggle.com/datasets/kamilpytlak/personal-key-indicators-of-heart-disease?datasetId=1936563&sortBy=voteCount\n",
    "Originally, the dataset come from the CDC and is a major part of the Behavioral Risk Factor Surveillance System (BRFSS), which conducts annual telephone surveys to gather data on the health status of U.S. residents. \n",
    "\n",
    "This dataset consists of eighteen columns\n",
    "- HeartDisease: Respondents that have ever reported having coronary heart disease (CHD) or myocardial infarction (MI)\n",
    "- BMI: Body Mass Index (BMI)\n",
    "- Smoking: smoked at least 100 cigarettes in your entire life\n",
    "- AlcoholDrinking: Heavy drinkers (adult men having more than 14 drinks per week and adult women having more than 7 drinks per week\n",
    "- Stroke:Ever had a stroke?\n",
    "- PhysicalHealth: physical health, which includes physical illness and injury\n",
    "- MentalHealth: for how many days during the past 30 days was your mental health not good?\n",
    "- DiffWalking: Do you have serious difficulty walking or climbing stairs?\n",
    "- Sex: male or female?\n",
    "- AgeCategory: Fourteen-level age category\n",
    "- Race: Imputed race/ethnicity value\n",
    "- Diabetic: diabetes?\n",
    "- PhysicalActivity: Adults who reported doing physical activity or exercise during the past 30 days other than their regular job\n",
    "- GenHealth: Would you say that in general your health is good, fine or excellent?\n",
    "- SleepTime: On average, how many hours of sleep do you get in a 24-hour period?\n",
    "- Asthma: you had asthma?\n",
    "- KidneyDisease: Not including kidney stones, bladder infection or incontinence, were you ever told you had kidney disease?\n",
    "- SkinCancer: Ever had skin cancer?"
   ]
  },
  {
   "cell_type": "markdown",
   "id": "f8617014",
   "metadata": {
    "id": "f8617014"
   },
   "source": [
    "### 1. Importing Libraries"
   ]
  },
  {
   "cell_type": "code",
   "execution_count": null,
   "id": "c7172d3b",
   "metadata": {
    "id": "c7172d3b"
   },
   "outputs": [],
   "source": [
    "import numpy as np \n",
    "import pandas as pd \n",
    "import matplotlib.pyplot as plt\n",
    "import seaborn as sns\n",
    "import sklearn\n",
    "from sklearn.model_selection import train_test_split\n",
    "from sklearn.preprocessing import StandardScaler\n",
    "from sklearn.linear_model import LogisticRegression\n",
    "from sklearn.metrics import accuracy_score,confusion_matrix\n",
    "from sklearn.preprocessing import LabelEncoder\n",
    "import warnings\n",
    "warnings.filterwarnings('ignore')\n",
    "\n",
    "from sklearn.neighbors import KNeighborsClassifier\n",
    "from sklearn.naive_bayes import GaussianNB\n",
    "from sklearn.ensemble import RandomForestClassifier\n",
    "from sklearn.ensemble import StackingClassifier\n",
    "from sklearn.ensemble import AdaBoostClassifier, GradientBoostingClassifier\n",
    "from sklearn.tree import DecisionTreeClassifier\n"
   ]
  },
  {
   "cell_type": "markdown",
   "id": "8fe1a778",
   "metadata": {
    "id": "8fe1a778"
   },
   "source": [
    "### 2. Load the dataset and display a sample of five rows of the data frame."
   ]
  },
  {
   "cell_type": "code",
   "execution_count": null,
   "id": "70984f5f",
   "metadata": {
    "id": "70984f5f"
   },
   "outputs": [],
   "source": [
    "df = pd.read_csv('Dataset/heart_2020_cleaned.csv')\n",
    "df.head()"
   ]
  },
  {
   "cell_type": "markdown",
   "id": "eda763be",
   "metadata": {
    "id": "eda763be"
   },
   "source": [
    "### 3. Check the shape of the data (number of rows and columns). Check the general information about the dataframe using the .info() method."
   ]
  },
  {
   "cell_type": "code",
   "execution_count": null,
   "id": "c246297d",
   "metadata": {
    "id": "c246297d"
   },
   "outputs": [],
   "source": [
    "# shape\n",
    "df.shape"
   ]
  },
  {
   "cell_type": "code",
   "execution_count": null,
   "id": "648e6563",
   "metadata": {},
   "outputs": [],
   "source": [
    "# information\n",
    "df.info()"
   ]
  },
  {
   "cell_type": "markdown",
   "id": "b8470476",
   "metadata": {
    "id": "b8470476"
   },
   "source": [
    "### 4. Check the statistical summary of the dataset and write your inferences."
   ]
  },
  {
   "cell_type": "code",
   "execution_count": null,
   "id": "b28786f2",
   "metadata": {
    "id": "b28786f2"
   },
   "outputs": [],
   "source": [
    "#statistical summary of the data\n",
    "df.describe().T"
   ]
  },
  {
   "cell_type": "code",
   "execution_count": null,
   "id": "88b557d6",
   "metadata": {},
   "outputs": [],
   "source": [
    "#statistical summary of the categorical data\n",
    "df.describe(include='O')"
   ]
  },
  {
   "cell_type": "markdown",
   "id": "36579170",
   "metadata": {},
   "source": [
    "### inferences\n",
    "1. BMI - min 12, max - 95\n",
    "2. avg mental health is for 7 days and min is 0 that means mantal health remains good for 30 days\n",
    "3. Race has 6 unique categories\n",
    "4. Most of the data is in Yes or No format"
   ]
  },
  {
   "cell_type": "markdown",
   "id": "25d21a69",
   "metadata": {
    "id": "25d21a69"
   },
   "source": [
    "### 5. Check the percentage of missing values in each column of the data frame. Drop the missing values if there are any."
   ]
  },
  {
   "cell_type": "code",
   "execution_count": null,
   "id": "20d33888",
   "metadata": {
    "id": "20d33888"
   },
   "outputs": [],
   "source": [
    "df.isnull().sum()/len(df)*100"
   ]
  },
  {
   "cell_type": "markdown",
   "id": "a652f576",
   "metadata": {},
   "source": [
    "##### - No missing values so no need to drop any value"
   ]
  },
  {
   "cell_type": "markdown",
   "id": "030b4016",
   "metadata": {
    "id": "030b4016"
   },
   "source": [
    "### 6. Check if there are any duplicate rows. If any drop them and check the shape of the dataframe after dropping duplicates."
   ]
  },
  {
   "cell_type": "code",
   "execution_count": null,
   "id": "11f42ddc",
   "metadata": {
    "id": "11f42ddc"
   },
   "outputs": [],
   "source": [
    "# getting no. of dupicated rows\n",
    "count = len(df[df.duplicated()])\n",
    "print(\" There are \"+ str(count) +\" duplicate rows in data\")"
   ]
  },
  {
   "cell_type": "code",
   "execution_count": null,
   "id": "f0ee8f1b",
   "metadata": {},
   "outputs": [],
   "source": [
    "#dropping duplicates\n",
    "df.drop_duplicates(inplace=True)"
   ]
  },
  {
   "cell_type": "code",
   "execution_count": null,
   "id": "72e992a5",
   "metadata": {},
   "outputs": [],
   "source": [
    "#shape after dropping duplicates\n",
    "df.shape"
   ]
  },
  {
   "cell_type": "code",
   "execution_count": null,
   "id": "a4af87ca",
   "metadata": {},
   "outputs": [],
   "source": [
    "# getting no. of dupicated rows after deletion\n",
    "count = len(df[df.duplicated()])\n",
    "print(\" There are \"+ str(count) +\" duplicate rows in data\")"
   ]
  },
  {
   "cell_type": "markdown",
   "id": "817d0f41",
   "metadata": {
    "id": "817d0f41"
   },
   "source": [
    "### 7. Check the distribution of the target variable (i.e. 'HeartDisease') and write your observations."
   ]
  },
  {
   "cell_type": "code",
   "execution_count": null,
   "id": "62d1e2b3",
   "metadata": {
    "id": "62d1e2b3"
   },
   "outputs": [],
   "source": [
    "#count of target variable\n",
    "df['HeartDisease'].value_counts().plot(kind='pie',autopct='%1.0f%%')\n",
    "plt.show()"
   ]
  },
  {
   "cell_type": "markdown",
   "id": "218c2f39",
   "metadata": {},
   "source": [
    "###### \n",
    "- Unbalanced distribution\n",
    "- The Data set is highly imbalanced. This could result in wrong predictions.\n",
    "- We can do upscaling and downscaling to make it balance one , also check AOC , ROC score"
   ]
  },
  {
   "cell_type": "markdown",
   "id": "1cd33e88",
   "metadata": {
    "id": "1cd33e88"
   },
   "source": [
    "### 8. Visualize the distribution of the target column 'Heart disease' with respect to various categorical features and write your observations."
   ]
  },
  {
   "cell_type": "code",
   "execution_count": null,
   "id": "888be5c5",
   "metadata": {
    "id": "888be5c5"
   },
   "outputs": [],
   "source": [
    "# Categorical features in the dataset\n",
    "categorical_features = df.select_dtypes(include=[np.object])\n",
    "categorical_features.columns"
   ]
  },
  {
   "cell_type": "code",
   "execution_count": null,
   "id": "a429a19a",
   "metadata": {},
   "outputs": [],
   "source": [
    "i = 1\n",
    "plt.figure(figsize = (30,25))\n",
    "for feature in categorical_features:\n",
    "    plt.subplot(6,3,i)\n",
    "    sns.countplot(x = feature,hue = 'HeartDisease' , data = df)\n",
    "    i +=1"
   ]
  },
  {
   "cell_type": "markdown",
   "id": "11af76b7",
   "metadata": {
    "id": "11af76b7"
   },
   "source": [
    "### 9. Check the unique categories in the column 'Diabetic'. Replace 'Yes (during pregnancy)' as 'Yes' and 'No, borderline diabetes' as 'No'."
   ]
  },
  {
   "cell_type": "code",
   "execution_count": null,
   "id": "86fccebe",
   "metadata": {
    "id": "86fccebe"
   },
   "outputs": [],
   "source": [
    "#unique categories in column 'Diabetic'\n",
    "df['Diabetic'].unique()"
   ]
  },
  {
   "cell_type": "code",
   "execution_count": null,
   "id": "16c9f20a",
   "metadata": {},
   "outputs": [],
   "source": [
    "df['Diabetic'] = df['Diabetic'].replace({'Yes (during pregnancy)':'Yes','No, borderline diabetes':'No'})"
   ]
  },
  {
   "cell_type": "code",
   "execution_count": null,
   "id": "9c52a198",
   "metadata": {},
   "outputs": [],
   "source": [
    "#recheck\n",
    "df['Diabetic'].value_counts()"
   ]
  },
  {
   "cell_type": "markdown",
   "id": "e204cd08",
   "metadata": {
    "id": "e204cd08"
   },
   "source": [
    "### 10. For the target column 'HeartDiease', Replace 'No' as 0 and 'Yes' as 1. "
   ]
  },
  {
   "cell_type": "code",
   "execution_count": null,
   "id": "22190734",
   "metadata": {
    "id": "22190734"
   },
   "outputs": [],
   "source": [
    "## Replacing \"No\" as 0 and \"Yes\" as 1\n",
    "df['HeartDisease'] = df['HeartDisease'].replace({'Yes':1,'No':0})"
   ]
  },
  {
   "cell_type": "code",
   "execution_count": null,
   "id": "641d329b",
   "metadata": {},
   "outputs": [],
   "source": [
    "## lets check\n",
    "df['HeartDisease'].value_counts()"
   ]
  },
  {
   "cell_type": "markdown",
   "id": "7cdb58cd",
   "metadata": {
    "id": "7cdb58cd"
   },
   "source": [
    "### 11. Label Encode the columns \"AgeCategory\", \"Race\", and \"GenHealth\". Encode the rest of the columns using dummy encoding approach."
   ]
  },
  {
   "cell_type": "code",
   "execution_count": null,
   "id": "707747be",
   "metadata": {
    "id": "707747be"
   },
   "outputs": [],
   "source": [
    "object_type = [i for i in df[['AgeCategory','Race','GenHealth']] if df.dtypes[i] == object]\n",
    "object_type\n",
    "\n",
    "\n",
    "le = LabelEncoder()\n",
    "\n",
    "def encoder(df):\n",
    "    for i in object_type:\n",
    "        q = le.fit_transform(df[i].astype(str))  \n",
    "        df[i] = q                               \n",
    "        df[i] = df[i].astype(int)\n",
    "encoder(df)"
   ]
  },
  {
   "cell_type": "code",
   "execution_count": null,
   "id": "2f6ca4d5",
   "metadata": {},
   "outputs": [],
   "source": [
    "## Dummy encoding the rest of the columns, since they have binary entries. 'Yes' or 'No'\n",
    "df = pd.get_dummies(df,drop_first=True)"
   ]
  },
  {
   "cell_type": "code",
   "execution_count": null,
   "id": "cd0046a4",
   "metadata": {},
   "outputs": [],
   "source": [
    "#few samples after encoding.\n",
    "df.head(2)"
   ]
  },
  {
   "cell_type": "markdown",
   "id": "ddb3a715",
   "metadata": {
    "id": "ddb3a715"
   },
   "source": [
    "### 12. Store the target column (i.e.'HeartDisease') in the y variable and the rest of the columns in the X variable."
   ]
  },
  {
   "cell_type": "code",
   "execution_count": null,
   "id": "9628128c",
   "metadata": {
    "id": "9628128c"
   },
   "outputs": [],
   "source": [
    "#lets store the target column in the y variable and the rest of the colum in the x variable\n",
    "x=df.drop('HeartDisease',axis=1)\n",
    "y=df['HeartDisease']"
   ]
  },
  {
   "cell_type": "markdown",
   "id": "68db6b1e",
   "metadata": {
    "id": "68db6b1e"
   },
   "source": [
    "### 13. Split the dataset into two parts (i.e. 70% train and 30% test) and print the shape of the train and test data"
   ]
  },
  {
   "cell_type": "code",
   "execution_count": null,
   "id": "0077d21b",
   "metadata": {
    "id": "0077d21b"
   },
   "outputs": [],
   "source": [
    "## train_tes_split() is used to divide dataset into traning and test set\n",
    "x_train,x_test,y_train,y_test= train_test_split(x,y,test_size=0.2)\n",
    "\n",
    "print(x_train.shape,x_test.shape)\n",
    "print(y_train.shape,y_test.shape)"
   ]
  },
  {
   "cell_type": "markdown",
   "id": "495ea012",
   "metadata": {
    "id": "495ea012"
   },
   "source": [
    "### 14. Standardize the numerical columns using Standard Scalar approach for both train and test data."
   ]
  },
  {
   "cell_type": "code",
   "execution_count": null,
   "id": "19357a7b",
   "metadata": {
    "id": "19357a7b"
   },
   "outputs": [],
   "source": [
    "## Standardizing onlu numarical colums.(not standardizing the dummy encoded data)\n",
    "ss = StandardScaler()\n",
    "\n",
    "x_train.iloc[:,:7]=ss.fit_transform(x_train.iloc[:,:7])\n",
    "x_test.iloc[:,:7]=ss.transform(x_test.iloc[:,:7])"
   ]
  },
  {
   "cell_type": "code",
   "execution_count": null,
   "id": "b19218c9",
   "metadata": {},
   "outputs": [],
   "source": [
    "x_train"
   ]
  },
  {
   "cell_type": "code",
   "execution_count": null,
   "id": "d3eca739",
   "metadata": {},
   "outputs": [],
   "source": [
    "x_test"
   ]
  },
  {
   "cell_type": "markdown",
   "id": "84d0e4a4",
   "metadata": {
    "id": "84d0e4a4"
   },
   "source": [
    "### 15. Write a function.\n",
    "- i) Which can take the model and data as inputs.\n",
    "- ii) Fits the model with the train data.\n",
    "- iii) Makes predictions on the test set.\n",
    "- iv) Returns the Accuracy Score."
   ]
  },
  {
   "cell_type": "code",
   "execution_count": null,
   "id": "e02c8c82",
   "metadata": {
    "id": "e02c8c82"
   },
   "outputs": [],
   "source": [
    "def fit_n_print(model,x_train,x_test,y_train,y_test): # take the model, and data as inputs\n",
    "    model.fit(x_train,y_train) # fits the model with the train data\n",
    "    pred= model.predict(x_test) #makes prediction on the test set\n",
    "    accuracy =accuracy_score(y_test,pred)\n",
    "    return accuracy #return all the metrics|"
   ]
  },
  {
   "cell_type": "markdown",
   "id": "e709b9d4",
   "metadata": {
    "id": "e709b9d4"
   },
   "source": [
    "### 16. Use the function and train a Logistic regression, KNN, Naive Bayes, Decision tree, Random Forest, Adaboost, GradientBoost, and Stacked Classifier models and make predictions on test data and evaluate the models, compare and write your conclusions and steps to be taken in future in order to improve the accuracy of the model."
   ]
  },
  {
   "cell_type": "code",
   "execution_count": null,
   "id": "a63e0e03",
   "metadata": {
    "id": "a63e0e03"
   },
   "outputs": [],
   "source": [
    "## intializing the models\n",
    "\n",
    "lr = LogisticRegression()\n",
    "nb = GaussianNB()\n",
    "knn = KNeighborsClassifier()\n",
    "dt = DecisionTreeClassifier()\n",
    "rf = RandomForestClassifier()\n",
    "adb = AdaBoostClassifier()\n",
    "gb =  GradientBoostingClassifier()\n",
    "\n",
    "\n",
    "estimators =[('rf',rf),('knn',knn),('gb',gb),('adb',adb)]\n",
    "sc=StackingClassifier(estimators=estimators,final_estimator=rf)"
   ]
  },
  {
   "cell_type": "code",
   "execution_count": null,
   "id": "547ec556",
   "metadata": {},
   "outputs": [],
   "source": [
    "result = pd.DataFrame(columns=['Accuracy'])\n",
    "\n",
    "for model, model_name in zip([lr, nb ,knn ,dt ,rf ,adb ,gb ,sc ],\n",
    "                            ['Logistic Regression','Naive Bayes','KNN','Decision tree',\n",
    "                            'Random Forest','Ada Boost','Gradient Boost','Stacking']):\n",
    "    result.loc[model_name]=fit_n_print(model,x_train,x_test,y_train,y_test)"
   ]
  },
  {
   "cell_type": "code",
   "execution_count": null,
   "id": "8967152e",
   "metadata": {},
   "outputs": [],
   "source": [
    "result"
   ]
  },
  {
   "cell_type": "markdown",
   "id": "K5f-IKPLV3bN",
   "metadata": {
    "id": "K5f-IKPLV3bN"
   },
   "source": [
    "### Conclusion"
   ]
  },
  {
   "cell_type": "markdown",
   "id": "47899484",
   "metadata": {
    "id": "e18c82e0"
   },
   "source": [
    "#### \n",
    "=> From EDA:-\n",
    "- People who smoke have higher chance of heart disease then no smokers\n",
    "- Male are more prone to suffer from heart disease as compare to females\n",
    "- People with age limit in between 55-75 has higer chances of getting heart disease\n",
    "- If people has difficulty in walking or climbing stairs there is a high probability that he or she is suffering from some heart disease\n",
    "- There are higher chances of a person having heart disease if he does not have any kidney disease.\n",
    "\n",
    "=> From Model:-\n",
    "- We see that the best perfomrming models are gradient boost,adaboost,logistic regression and knn with around 91% accuracy.\n",
    "- Please note that the target class is highly imbalanced so, accutracy does not hold good for imbalanced data.Accuracy becomes poor measure of evaluation for our classification model in the context.\n",
    "- We can future go with evaluatin the modles based on the different perfomance metrics such as presicion ,recall and F1score and choose the model accordingly"
   ]
  },
  {
   "cell_type": "markdown",
   "id": "515596d0",
   "metadata": {
    "id": "515596d0"
   },
   "source": [
    "----\n",
    "## Happy Learning:)\n",
    "----"
   ]
  }
 ],
 "metadata": {
  "colab": {
   "collapsed_sections": [],
   "name": "Supervised Learning - Lab Session .ipynb",
   "provenance": []
  },
  "kernelspec": {
   "display_name": "Python 3 (ipykernel)",
   "language": "python",
   "name": "python3"
  },
  "language_info": {
   "codemirror_mode": {
    "name": "ipython",
    "version": 3
   },
   "file_extension": ".py",
   "mimetype": "text/x-python",
   "name": "python",
   "nbconvert_exporter": "python",
   "pygments_lexer": "ipython3",
   "version": "3.9.12"
  }
 },
 "nbformat": 4,
 "nbformat_minor": 5
}
